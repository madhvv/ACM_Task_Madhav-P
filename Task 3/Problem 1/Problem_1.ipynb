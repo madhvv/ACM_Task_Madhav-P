{
  "nbformat": 4,
  "nbformat_minor": 0,
  "metadata": {
    "colab": {
      "provenance": []
    },
    "kernelspec": {
      "name": "python3",
      "display_name": "Python 3"
    },
    "language_info": {
      "name": "python"
    }
  },
  "cells": [
    {
      "cell_type": "code",
      "execution_count": 1,
      "metadata": {
        "id": "mNzTm_3KXr4_",
        "colab": {
          "base_uri": "https://localhost:8080/"
        },
        "outputId": "a5b5f715-c17d-4134-bdcb-0d5084c155a5"
      },
      "outputs": [
        {
          "output_type": "stream",
          "name": "stdout",
          "text": [
            "enter number of testcases:- 2\n",
            "Enter list:- 1 2 3 4 5 6\n",
            "9\n",
            "Enter list:- 5 7 9\n",
            "21\n"
          ]
        }
      ],
      "source": [
        "'''code 1'''\n",
        "test=int(input(\"enter number of testcases:- \"))\n",
        "\n",
        "while test>0:\n",
        "  a=input(\"Enter list:- \")\n",
        "  arr=a.split()\n",
        "\n",
        "  ar=[int(i) for i in arr]\n",
        "\n",
        "  sum=0\n",
        "  for i in range(len(ar)):\n",
        "    var=ar.pop()\n",
        "    if var%2!=0:\n",
        "      sum+=var\n",
        "  print(sum)\n",
        "  test-=1"
      ]
    }
  ]
}